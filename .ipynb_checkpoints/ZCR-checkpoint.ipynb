{
 "cells": [
  {
   "cell_type": "markdown",
   "metadata": {},
   "source": [
    "### Apprentissage  ZCR\n",
    "\n",
    "###### Reconnaissance du genre du locuteur"
   ]
  },
  {
   "cell_type": "code",
   "execution_count": 1,
   "metadata": {},
   "outputs": [],
   "source": [
    "import pandas as pd\n",
    "import numpy as np\n",
    "import matplotlib.pyplot as plt\n",
    "%matplotlib inline\n",
    "import struct \n",
    "import os\n",
    "\n",
    "\n",
    "from sklearn.metrics import confusion_matrix\n",
    "import seaborn as sn\n",
    "\n",
    "from tqdm.notebook import tqdm, trange\n",
    "import time\n"
   ]
  },
  {
   "cell_type": "code",
   "execution_count": 2,
   "metadata": {},
   "outputs": [],
   "source": [
    "### Une fonction pour lire les fichiers WAV\n",
    "\n",
    "\n",
    "    \n",
    "def lire_son(filename):\n",
    "    valeurs = [] \n",
    "    with open(filename, 'br') as fichier:\n",
    "         while fichier:\n",
    "            v = fichier.read(2)\n",
    "            if not v or len(v)!=2:\n",
    "                break\n",
    "            valeurs.append(struct.unpack('h', v)[0])        \n",
    "    return np.array(valeurs)"
   ]
  },
  {
   "cell_type": "code",
   "execution_count": 3,
   "metadata": {},
   "outputs": [],
   "source": [
    "### Une fonction pour calculer le taux de passage par zéro (ZCR)\n",
    "def zcr(fenetre):\n",
    "    cpt = 0\n",
    "    old_val = fenetre[0]\n",
    "    for v in fenetre:\n",
    "        if v*old_val < 0:\n",
    "            cpt += 1\n",
    "        old_val = v\n",
    "    return cpt"
   ]
  },
  {
   "cell_type": "code",
   "execution_count": 4,
   "metadata": {},
   "outputs": [
    {
     "name": "stdout",
     "output_type": "stream",
     "text": [
      "M data len: 14559\n",
      "F data len: 1782\n"
     ]
    }
   ],
   "source": [
    "## read labels \n",
    "import csv\n",
    "tsv_file = open(\"./DATA/files.tsv\")\n",
    "read_tsv = csv.reader(tsv_file, delimiter=\"\\t\")\n",
    "labels ={}\n",
    "# skip header\n",
    "next(read_tsv, None)\n",
    "for row in read_tsv:\n",
    "    labels[row[1]]=row[6]\n",
    "s=sum(value == \"male\" for value in labels.values())\n",
    "print(\"M data len:\",s)\n",
    "s=sum(value == \"female\" for value in labels.values())\n",
    "print(\"F data len:\",s)"
   ]
  },
  {
   "cell_type": "markdown",
   "metadata": {},
   "source": [
    "### Paramétrisation :\n",
    " 1. calculer pour chaque fichier audio les taux de passage par zéro\n",
    " 2. sauvgarder la liste des zcrs dans un fichier"
   ]
  },
  {
   "cell_type": "code",
   "execution_count": 5,
   "metadata": {},
   "outputs": [
    {
     "data": {
      "application/vnd.jupyter.widget-view+json": {
       "model_id": "104d04e4e6ef4ef58ce3baf83085e512",
       "version_major": 2,
       "version_minor": 0
      },
      "text/plain": [
       "  0%|          | 0/14207 [00:00<?, ?it/s]"
      ]
     },
     "metadata": {},
     "output_type": "display_data"
    }
   ],
   "source": [
    "######### calculer les taux de passage par zéro pour chaque fichier ###########\n",
    "\n",
    "#train data\n",
    "directory='./DATA/TRAIN/'\n",
    "fenetre_len=620\n",
    "files=os.listdir(directory)\n",
    "train=[]\n",
    "p_bar = tqdm(range(len(files)))\n",
    " \n",
    "for i in p_bar:\n",
    "    if not files[i].split(\".\")[0] in labels :\n",
    "         continue\n",
    "    values=lire_son(directory+files[i])\n",
    "    zcrs=[zcr(values[deb:deb+fenetre_len]) for deb in range(0, len(values), fenetre_len)]\n",
    "    ### write zcrs in binary file\n",
    "    np.array(zcrs).tofile('./DATA/ZCR/TRAIN/'+files[i].split(\".\")[0]+'.zcr')\n",
    "    \n",
    "    p_bar.set_description(f'Working on \"{i}\"')"
   ]
  },
  {
   "cell_type": "markdown",
   "metadata": {},
   "source": [
    "### Apprentissage GMM"
   ]
  },
  {
   "cell_type": "code",
   "execution_count": 10,
   "metadata": {},
   "outputs": [],
   "source": [
    "from sklearn import mixture\n",
    "### un modéle GMM pour chaque classe\n",
    "GMM_male=mixture.GaussianMixture(8, covariance_type='diag')\n",
    "GMM_female=mixture.GaussianMixture(8, covariance_type='diag')"
   ]
  },
  {
   "cell_type": "code",
   "execution_count": 11,
   "metadata": {},
   "outputs": [
    {
     "data": {
      "application/vnd.jupyter.widget-view+json": {
       "model_id": "28fe4978892e4502a33f781782fd034b",
       "version_major": 2,
       "version_minor": 0
      },
      "text/plain": [
       "  0%|          | 0/14206 [00:00<?, ?it/s]"
      ]
     },
     "metadata": {},
     "output_type": "display_data"
    }
   ],
   "source": [
    "\n",
    "\n",
    "directory='./DATA/ZCR/TRAIN/'\n",
    "files=os.listdir(directory)\n",
    "p_bar = tqdm(range(len(files))) \n",
    "for i in p_bar:\n",
    "    p_bar.set_description(f'Working on \"{i}\"')\n",
    "    label=labels[files[i].split(\".\")[0]]\n",
    "    zcrs=np.fromfile(directory+files[i],  dtype=np.int64)\n",
    "    if(label==\"male\"):\n",
    "            GMM_male.fit(np.array(zcrs).reshape(-1,1))\n",
    "    if (label==\"female\"):\n",
    "            GMM_female.fit(np.array(zcrs).reshape(-1,1))"
   ]
  },
  {
   "cell_type": "code",
   "execution_count": 12,
   "metadata": {},
   "outputs": [
    {
     "name": "stdout",
     "output_type": "stream",
     "text": [
      "GMM_male :( means :[[ 35.60570322]\n",
      " [120.50873046]\n",
      " [  8.46414669]\n",
      " [234.08921245]\n",
      " [165.49409753]\n",
      " [ 88.65338183]\n",
      " [334.        ]\n",
      " [138.71966835]]\n",
      " covariances :[[1.32983632e+02]\n",
      " [1.12552538e+02]\n",
      " [1.20968613e+01]\n",
      " [7.40062784e+02]\n",
      " [7.42226468e+01]\n",
      " [1.61542157e+02]\n",
      " [1.00021828e-06]\n",
      " [1.28250011e+02]]\n",
      " weights :[0.21082806 0.08320913 0.47233351 0.02851094 0.05977202 0.09936214\n",
      " 0.00298507 0.04299912]\n",
      ")\n",
      "GMM_female :( means :[[  6.24632379]\n",
      " [ 46.57816493]\n",
      " [ 92.26556837]\n",
      " [ 11.00475881]\n",
      " [118.        ]\n",
      " [  0.        ]\n",
      " [ 21.48350878]\n",
      " [ 77.92364515]]\n",
      " covariances :[[6.67072929e+00]\n",
      " [5.03999824e+01]\n",
      " [4.21570444e+00]\n",
      " [4.12553934e+00]\n",
      " [9.00000100e+00]\n",
      " [1.00000000e-06]\n",
      " [5.16849578e+01]\n",
      " [3.18404619e+01]]\n",
      " weights :[0.35575163 0.02189989 0.0163069  0.15766921 0.01204819 0.35541435\n",
      " 0.04916031 0.03174952]\n",
      ")\n"
     ]
    }
   ],
   "source": [
    "\n",
    "print('{} :( means :{}\\n covariances :{}\\n weights :{}\\n)'.format(\"GMM_male\" , GMM_male.means_ , GMM_male.covariances_ , GMM_male.weights_ ))\n",
    "\n",
    "print('{} :( means :{}\\n covariances :{}\\n weights :{}\\n)'.format(\"GMM_female\" , GMM_female.means_ , GMM_female.covariances_ , GMM_female.weights_ ))"
   ]
  },
  {
   "cell_type": "code",
   "execution_count": 19,
   "metadata": {},
   "outputs": [
    {
     "data": {
      "text/plain": [
       "Text(0.5, 1.0, 'male')"
      ]
     },
     "execution_count": 19,
     "metadata": {},
     "output_type": "execute_result"
    },
    {
     "data": {
      "image/png": "[encoded data removed]",
      "text/plain": [
       "<Figure size 720x360 with 2 Axes>"
      ]
     },
     "metadata": {
      "needs_background": "light"
     },
     "output_type": "display_data"
    }
   ],
   "source": [
    "### afficher le modéle pour chaque classe\n",
    "plt.figure(figsize=(10,5))\n",
    "plt.subplot(1,2,1)\n",
    "plt.plot([np.exp(GMM_female.score(x.reshape(-1,1))) for x in np.arange(5)])\n",
    "plt.title(\"female\")\n",
    "plt.subplot(1,2,2)\n",
    "plt.plot([np.exp(GMM_male.score(x.reshape(-1,1))) for x in np.arange(101)])\n",
    "plt.title(\"male\")\n",
    "    \n"
   ]
  },
  {
   "cell_type": "markdown",
   "metadata": {},
   "source": [
    "### Évaluation"
   ]
  },
  {
   "cell_type": "code",
   "execution_count": 25,
   "metadata": {},
   "outputs": [],
   "source": [
    "def gauss(x, mu, sigma):\n",
    "    return 1/(np.sqrt(2*np.pi)*sigma) * np.exp(-0.5*(x - mu)**2/sigma**2)\n",
    "\n",
    "### vraisemblance par rapport au modéle g\n",
    "\n",
    "def vraisemblance(x , g):\n",
    "    v=0\n",
    "    for i in range(len(g.weights_)):\n",
    "        v+= g.weights_[i]*gauss(x,g.means_[i] , np.sqrt(g.covariances_[i]))\n",
    "    return v"
   ]
  },
  {
   "cell_type": "code",
   "execution_count": 26,
   "metadata": {},
   "outputs": [
    {
     "data": {
      "application/vnd.jupyter.widget-view+json": {
       "model_id": "dcda4dc0a8c546b5b172e3d00dbbe7b9",
       "version_major": 2,
       "version_minor": 0
      },
      "text/plain": [
       "  0%|          | 0/4735 [00:00<?, ?it/s]"
      ]
     },
     "metadata": {},
     "output_type": "display_data"
    },
    {
     "name": "stderr",
     "output_type": "stream",
     "text": [
      "/home/mg/.local/lib/python3.6/site-packages/ipykernel_launcher.py:14: RuntimeWarning: divide by zero encountered in log\n",
      "  \n",
      "/home/mg/.local/lib/python3.6/site-packages/ipykernel_launcher.py:17: RuntimeWarning: divide by zero encountered in log\n",
      "/home/mg/.local/lib/python3.6/site-packages/numpy/core/fromnumeric.py:87: RuntimeWarning: overflow encountered in reduce\n",
      "  return ufunc.reduce(obj, axis, dtype, out, **passkwargs)\n"
     ]
    },
    {
     "ename": "KeyboardInterrupt",
     "evalue": "",
     "output_type": "error",
     "traceback": [
      "\u001b[0;31m---------------------------------------------------------------------------\u001b[0m",
      "\u001b[0;31mKeyboardInterrupt\u001b[0m                         Traceback (most recent call last)",
      "\u001b[0;32m<ipython-input-26-5e2890ce7ff4>\u001b[0m in \u001b[0;36m<module>\u001b[0;34m\u001b[0m\n\u001b[1;32m     15\u001b[0m \u001b[0;34m\u001b[0m\u001b[0m\n\u001b[1;32m     16\u001b[0m     \u001b[0;31m#calculate LL for GMM_female model\u001b[0m\u001b[0;34m\u001b[0m\u001b[0;34m\u001b[0m\u001b[0;34m\u001b[0m\u001b[0m\n\u001b[0;32m---> 17\u001b[0;31m     \u001b[0mll_female\u001b[0m\u001b[0;34m=\u001b[0m\u001b[0mnp\u001b[0m\u001b[0;34m.\u001b[0m\u001b[0mlog\u001b[0m\u001b[0;34m(\u001b[0m\u001b[0mnp\u001b[0m\u001b[0;34m.\u001b[0m\u001b[0mprod\u001b[0m\u001b[0;34m(\u001b[0m\u001b[0mnp\u001b[0m\u001b[0;34m.\u001b[0m\u001b[0marray\u001b[0m\u001b[0;34m(\u001b[0m\u001b[0;34m[\u001b[0m\u001b[0mvraisemblance\u001b[0m\u001b[0;34m(\u001b[0m\u001b[0my\u001b[0m \u001b[0;34m,\u001b[0m \u001b[0mGMM_female\u001b[0m\u001b[0;34m)\u001b[0m \u001b[0;32mfor\u001b[0m \u001b[0my\u001b[0m \u001b[0;32min\u001b[0m \u001b[0mzcrs\u001b[0m\u001b[0;34m]\u001b[0m\u001b[0;34m)\u001b[0m\u001b[0;34m)\u001b[0m\u001b[0;34m)\u001b[0m\u001b[0;34m\u001b[0m\u001b[0;34m\u001b[0m\u001b[0m\n\u001b[0m\u001b[1;32m     18\u001b[0m \u001b[0;34m\u001b[0m\u001b[0m\n\u001b[1;32m     19\u001b[0m     \u001b[0;31m#append results\u001b[0m\u001b[0;34m\u001b[0m\u001b[0;34m\u001b[0m\u001b[0;34m\u001b[0m\u001b[0m\n",
      "\u001b[0;32m<ipython-input-26-5e2890ce7ff4>\u001b[0m in \u001b[0;36m<listcomp>\u001b[0;34m(.0)\u001b[0m\n\u001b[1;32m     15\u001b[0m \u001b[0;34m\u001b[0m\u001b[0m\n\u001b[1;32m     16\u001b[0m     \u001b[0;31m#calculate LL for GMM_female model\u001b[0m\u001b[0;34m\u001b[0m\u001b[0;34m\u001b[0m\u001b[0;34m\u001b[0m\u001b[0m\n\u001b[0;32m---> 17\u001b[0;31m     \u001b[0mll_female\u001b[0m\u001b[0;34m=\u001b[0m\u001b[0mnp\u001b[0m\u001b[0;34m.\u001b[0m\u001b[0mlog\u001b[0m\u001b[0;34m(\u001b[0m\u001b[0mnp\u001b[0m\u001b[0;34m.\u001b[0m\u001b[0mprod\u001b[0m\u001b[0;34m(\u001b[0m\u001b[0mnp\u001b[0m\u001b[0;34m.\u001b[0m\u001b[0marray\u001b[0m\u001b[0;34m(\u001b[0m\u001b[0;34m[\u001b[0m\u001b[0mvraisemblance\u001b[0m\u001b[0;34m(\u001b[0m\u001b[0my\u001b[0m \u001b[0;34m,\u001b[0m \u001b[0mGMM_female\u001b[0m\u001b[0;34m)\u001b[0m \u001b[0;32mfor\u001b[0m \u001b[0my\u001b[0m \u001b[0;32min\u001b[0m \u001b[0mzcrs\u001b[0m\u001b[0;34m]\u001b[0m\u001b[0;34m)\u001b[0m\u001b[0;34m)\u001b[0m\u001b[0;34m)\u001b[0m\u001b[0;34m\u001b[0m\u001b[0;34m\u001b[0m\u001b[0m\n\u001b[0m\u001b[1;32m     18\u001b[0m \u001b[0;34m\u001b[0m\u001b[0m\n\u001b[1;32m     19\u001b[0m     \u001b[0;31m#append results\u001b[0m\u001b[0;34m\u001b[0m\u001b[0;34m\u001b[0m\u001b[0;34m\u001b[0m\u001b[0m\n",
      "\u001b[0;32m<ipython-input-25-caf443cbc193>\u001b[0m in \u001b[0;36mvraisemblance\u001b[0;34m(x, g)\u001b[0m\n\u001b[1;32m      7\u001b[0m     \u001b[0mv\u001b[0m\u001b[0;34m=\u001b[0m\u001b[0;36m0\u001b[0m\u001b[0;34m\u001b[0m\u001b[0;34m\u001b[0m\u001b[0m\n\u001b[1;32m      8\u001b[0m     \u001b[0;32mfor\u001b[0m \u001b[0mi\u001b[0m \u001b[0;32min\u001b[0m \u001b[0mrange\u001b[0m\u001b[0;34m(\u001b[0m\u001b[0mlen\u001b[0m\u001b[0;34m(\u001b[0m\u001b[0mg\u001b[0m\u001b[0;34m.\u001b[0m\u001b[0mweights_\u001b[0m\u001b[0;34m)\u001b[0m\u001b[0;34m)\u001b[0m\u001b[0;34m:\u001b[0m\u001b[0;34m\u001b[0m\u001b[0;34m\u001b[0m\u001b[0m\n\u001b[0;32m----> 9\u001b[0;31m         \u001b[0mv\u001b[0m\u001b[0;34m+=\u001b[0m \u001b[0mg\u001b[0m\u001b[0;34m.\u001b[0m\u001b[0mweights_\u001b[0m\u001b[0;34m[\u001b[0m\u001b[0mi\u001b[0m\u001b[0;34m]\u001b[0m\u001b[0;34m*\u001b[0m\u001b[0mgauss\u001b[0m\u001b[0;34m(\u001b[0m\u001b[0mx\u001b[0m\u001b[0;34m,\u001b[0m\u001b[0mg\u001b[0m\u001b[0;34m.\u001b[0m\u001b[0mmeans_\u001b[0m\u001b[0;34m[\u001b[0m\u001b[0mi\u001b[0m\u001b[0;34m]\u001b[0m \u001b[0;34m,\u001b[0m  \u001b[0mg\u001b[0m\u001b[0;34m.\u001b[0m\u001b[0mcovariances_\u001b[0m\u001b[0;34m[\u001b[0m\u001b[0mi\u001b[0m\u001b[0;34m]\u001b[0m\u001b[0;34m)\u001b[0m\u001b[0;34m\u001b[0m\u001b[0;34m\u001b[0m\u001b[0m\n\u001b[0m\u001b[1;32m     10\u001b[0m     \u001b[0;32mreturn\u001b[0m \u001b[0mv\u001b[0m\u001b[0;34m\u001b[0m\u001b[0;34m\u001b[0m\u001b[0m\n",
      "\u001b[0;31mKeyboardInterrupt\u001b[0m: "
     ]
    }
   ],
   "source": [
    "#### charger TEST_data et calculer le Log_vraisemblance pour chaque fichier \n",
    "models_ll=[]\n",
    "y_true=[]\n",
    "directory='./DATA/TEST/'\n",
    "files=os.listdir(directory)\n",
    "p_bar = tqdm(range(len(files))) \n",
    "for i in p_bar:\n",
    "    p_bar.set_description(f'Working on \"{i}\"')\n",
    "    # read wav file     \n",
    "    values=lire_son(directory+files[i])\n",
    "    # calculate zcr\n",
    "    zcrs=[zcr(values[deb:deb+fenetre_len]) for deb in range(0, len(values), fenetre_len)]\n",
    "    #calculate LL for GMM_male model\n",
    "    ll_male=np.log(np.prod(np.array([vraisemblance(y , GMM_male) for y in zcrs])))\n",
    "\n",
    "    #calculate LL for GMM_female model\n",
    "    ll_female=np.log(np.prod(np.array([vraisemblance(y , GMM_female) for y in zcrs])))\n",
    "    \n",
    "    #append results\n",
    "    models_ll.append([ll_male,ll_female])\n",
    "    if label==\"male\":\n",
    "        label=0\n",
    "    else :\n",
    "        label=1\n",
    "    y_true.append(label)\n",
    "\n",
    "        \n",
    "        "
   ]
  },
  {
   "cell_type": "code",
   "execution_count": 27,
   "metadata": {},
   "outputs": [
    {
     "name": "stdout",
     "output_type": "stream",
     "text": [
      "[[-inf, -inf], [-inf, -726.9298366263047], [-inf, -inf], [-inf, -inf], [-inf, -inf], [-inf, -inf], [-inf, -inf], [-inf, -inf], [-inf, 88.31352934696918], [-inf, -inf], [-inf, -681.609845144634], [-inf, inf], [-inf, 74.23156453900383], [-inf, -inf], [-inf, -inf], [-inf, -inf], [-inf, -inf], [-inf, -inf], [-inf, -inf], [-inf, -72.82865327850007], [-inf, -inf], [-inf, -inf], [-inf, -inf], [-inf, -inf], [-inf, -inf], [-inf, -inf], [-inf, -inf], [-inf, -inf], [-inf, -inf], [-inf, -inf], [-inf, -inf], [-inf, -inf], [-inf, -inf], [-539.6908636119398, -411.02135431250446], [-inf, -inf], [-inf, inf], [-inf, -inf], [-inf, -inf], [-inf, -inf], [-inf, -inf], [-inf, -inf], [-inf, -inf], [-inf, -inf], [-inf, 365.1547492266036], [-inf, -inf], [-inf, -inf], [-inf, -inf], [-inf, -inf], [-inf, -inf], [-inf, -inf], [-inf, inf]]\n"
     ]
    },
    {
     "data": {
      "text/plain": [
       "array([[ 0,  0],\n",
       "       [41, 10]])"
      ]
     },
     "execution_count": 27,
     "metadata": {},
     "output_type": "execute_result"
    }
   ],
   "source": [
    "## matrice de confusion\n",
    "print(models_ll)\n",
    "y_pred=np.argmax(models_ll, axis=1) \n",
    "_matrix_confusion=confusion_matrix(y_true, y_pred)\n",
    "_matrix_confusion"
   ]
  },
  {
   "cell_type": "code",
   "execution_count": 45,
   "metadata": {},
   "outputs": [
    {
     "data": {
      "image/png": "[encoded data removed]",
      "text/plain": [
       "<Figure size 432x288 with 2 Axes>"
      ]
     },
     "metadata": {},
     "output_type": "display_data"
    }
   ],
   "source": [
    "\n",
    "lab=[\"male\",\"female\"]\n",
    "sn.set(font_scale=1.4) # for label size\n",
    "sn.heatmap(_matrix_confusion, annot=True, annot_kws={\"size\": 16},xticklabels=lab, yticklabels=lab) # font size\n",
    "\n",
    "plt.show()"
   ]
  },
  {
   "cell_type": "code",
   "execution_count": null,
   "metadata": {},
   "outputs": [],
   "source": []
  }
 ],
 "metadata": {
  "kernelspec": {
   "display_name": "Python 3",
   "language": "python",
   "name": "python3"
  },
  "language_info": {
   "codemirror_mode": {
    "name": "ipython",
    "version": 3
   },
   "file_extension": ".py",
   "mimetype": "text/x-python",
   "name": "python",
   "nbconvert_exporter": "python",
   "pygments_lexer": "ipython3",
   "version": "3.6.9"
  }
 },
 "nbformat": 4,
 "nbformat_minor": 2
}
